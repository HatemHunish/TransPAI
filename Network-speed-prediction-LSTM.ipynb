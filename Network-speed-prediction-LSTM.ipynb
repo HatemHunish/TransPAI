{
 "cells": [
  {
   "cell_type": "markdown",
   "metadata": {},
   "source": [
    "# Traffic Network speed data prediction using LSTM"
   ]
  },
  {
   "cell_type": "markdown",
   "metadata": {},
   "source": [
    "LSTM is a special kind of recurrent neural network. The major difference between LSTM and RNN is that LSTM has a special mechanism called **forget gate**. As RNNs do, LSTMs also have **hidden state** that would pass to the next time slot. But not like RNN, iformations are selected through the forget gate and only let through those informations that is usefull. Let see how this would help LSTM get away from gradient vanish or gradient explode."
   ]
  },
  {
   "cell_type": "markdown",
   "metadata": {},
   "source": [
    "### Input gate in LSTM\n",
    "First, the input is squashed between -1 and 1 using a tanh activation function. This can be expressed by:\n",
    "\n",
    "$$g = tanh(b^g+x_tU^g+y_{t-1}V^g)$$\n",
    "\n",
    "Where **$U^g$** and **$V^g$** are the weights for the input and previous cell output, respectively, and **$b^g$** is the input bias. Note that the exponents **g** are not a raised power, but rather signify that these are the input weights and bias values (as opposed to the input gate, forget gate, output gate etc.).\n",
    "\n",
    "This squashed input is then multiplied element-wise by the output of the input gate. The input gate is basically a hidden layer of sigmoid activated nodes, with weighted **$x_t$** and **$y_{t-1}$** input values, which outputs values of between 0 and 1 and when multiplied element-wise by the input determines which inputs are switched on and off. In other words, it is a kind of input filter or gate. The expression for the input gate is:\n",
    "\n",
    "$$i = \\sigma(b^i + x_tU^i+ y_{t-1}V^i)$$"
   ]
  },
  {
   "cell_type": "markdown",
   "metadata": {},
   "source": [
    "### The hidden state and the forget gate\n",
    "Forget gate is again a sigmoid activated set of nodes which is element-wise multiplied by the hidden state of the previous moment **$s_{t-1}$** to determine which previous states should be remembered (i.e. forget gate output close to 1) and which should be forgotten (i.e. forget gate output close to 0). This allows the LSTM cell to learn appropriate context. The forget gate is like:\n",
    "\n",
    "$$f = \\sigma(b^f + x_tU^f + y_{t-1}V^i)$$\n",
    "\n",
    "So the hidden state of the current moment is:\n",
    "\n",
    "$$s_t = s_{t-1}\\circ f + g \\circ i$$\n",
    "\n",
    "Where $\\circ$ denotes element-wise multiplication."
   ]
  },
  {
   "cell_type": "markdown",
   "metadata": {},
   "source": [
    "### The output gate in LSTM\n",
    "\n",
    "The final stage of the LSTM cell is the output gate. The output gate has two components – another tanh squashing function and an output sigmoid gating function. The output sigmoid gating function, like the other gating functions in the cell, is multiplied by the squashed state st to determine which values of the state are output from the cell. \n",
    "\n",
    "The output gate is like:\n",
    "\n",
    "$$o = \\sigma(b^o + x_tU^o + y_{t-1}V^o)$$\n",
    "\n",
    "So the final output of the cell is:\n",
    "\n",
    "$$y_t = tanh(s_t)\\circ o$$"
   ]
  },
  {
   "cell_type": "markdown",
   "metadata": {},
   "source": [
    "### Dropout\n",
    "The **dropout** reduce the chance of overfitting by adding noise to the inputs. It does this by discarding some elements in the input with certain rate $dropout$. \n",
    "\n",
    "* For elements which are discarded, **dropout** makes theirs values equal 0.\n",
    "* For elements which are reserved, **dropout** scales their initial value by $\\frac{1}{1-dropout}$.\n",
    "\n",
    "The summation of the inputs remains unchanged."
   ]
  },
  {
   "cell_type": "markdown",
   "metadata": {},
   "source": [
    "# Traffic network speed dataset\n",
    "The dataset is an open source Guangzhou speed dataset which can be found on my GitHub repository Transpol：https://github.com/Vadermit/TransPOL. This dataset contains the mean speed of 214 roads in Guangzhou. The data is collected every 5min from 8:00 to 20:00 for 2 months. Each raod has a temporal series of length $8784 = (30 + 31)\\times\\frac{60}{5}\\times12$."
   ]
  },
  {
   "cell_type": "code",
   "execution_count": 1,
   "metadata": {},
   "outputs": [
    {
     "name": "stderr",
     "output_type": "stream",
     "text": [
      "Using TensorFlow backend.\n"
     ]
    }
   ],
   "source": [
    "# LSTM for international airline passengers problem with regression framing\n",
    "import numpy as np\n",
    "import scipy.io\n",
    "import matplotlib.pyplot as plt\n",
    "from pandas import read_csv\n",
    "import math\n",
    "from keras.models import Sequential\n",
    "from keras.layers import Dense, LSTM, Dropout\n",
    "from sklearn.preprocessing import MinMaxScaler\n",
    "from sklearn.metrics import mean_squared_error"
   ]
  },
  {
   "cell_type": "code",
   "execution_count": 2,
   "metadata": {},
   "outputs": [
    {
     "name": "stdout",
     "output_type": "stream",
     "text": [
      "(214, 8784)\n"
     ]
    }
   ],
   "source": [
    "tensor = scipy.io.loadmat('../Guangzhou-data-set/tensor.mat')\n",
    "tensor = tensor['tensor']\n",
    "random_matrix = scipy.io.loadmat('../Guangzhou-data-set/random_matrix.mat')\n",
    "random_matrix = random_matrix['random_matrix']\n",
    "random_tensor = scipy.io.loadmat('../Guangzhou-data-set/random_tensor.mat')\n",
    "random_tensor = random_tensor['random_tensor']\n",
    "\n",
    "dense_mat = tensor.reshape([tensor.shape[0], tensor.shape[1] * tensor.shape[2]])\n",
    "print(dense_mat.shape)"
   ]
  },
  {
   "cell_type": "markdown",
   "metadata": {},
   "source": [
    "# Network speed data prediction using LSTM\n",
    "Each raod has its distinctive characteristics. But for computation efficiency, we only train one LSTM network to perform speed prediction in the whole road network."
   ]
  },
  {
   "cell_type": "markdown",
   "metadata": {},
   "source": [
    "### Data normalize\n",
    "LSTMs are very sensitive to the scale of their inputs, especially when using activations like tanh and sigmoid. Imaging this, if the inputs to an activation function are too big or too small, the derivative of tanh or sigmoid activation function would be 0. That means those weights related to that activation won't be updated according to the chain rule.\n",
    "\n",
    "So, before we feed the raw data into the LSTM network, we need to normalize those inputs and their labels to standard normal distribution as follows:\n",
    "\n",
    "$$\\hat{x}_i = \\frac{x_i - x_{min}}{x_{max} - x_{min}}$$\n",
    "\n",
    "The same $x_{max}$ and $x_{min}$ will be used again to restore the scale and position of predictions.\n",
    "\n",
    "$$x_i = \\hat{x}_i \\times (x_{max} - x_{min}) + x_{min}$$\n",
    "\n",
    "Since the concentrarion data scale of different pollutants observed from different stations are quite different, so they are scaled seperately using sklearn tool `MinMaxScalar`. `MinMaxScalar` is used to conveniently calculate the `min` and `max` of each feature of inital data `X` of size **[sample_num, feature_num]**. ($x_{max}$ and $x_{min}$ are calculated for each feature seperately)\n",
    "\n",
    "Our `dense_mat` is a 214 by 8784 matrix. Here, we can see it as a dataset of 8784 samples(time slots) and each sample contains 214 features(different roads). So the data scaling can be done as:"
   ]
  },
  {
   "cell_type": "code",
   "execution_count": 3,
   "metadata": {},
   "outputs": [
    {
     "name": "stdout",
     "output_type": "stream",
     "text": [
      "Size of scaleDataset:\n",
      "(214, 8784)\n",
      "\n",
      "Scaled data:\n",
      "[[0.79588401 0.81787383 0.86332646 0.87142797 0.86488363]\n",
      " [0.82551033 0.84004516 0.8201337  0.87101457 0.87483198]\n",
      " [0.57426059 0.57135092 0.60031974 0.57626432 0.61762856]\n",
      " [0.74110297 0.74543006 0.69533734 0.77973773 0.82042564]\n",
      " [0.82445465 0.8243344  0.7983357  0.87221915 0.87702927]]\n"
     ]
    }
   ],
   "source": [
    "# normalize the dataset\n",
    "scaler = MinMaxScaler(feature_range=(0, 1))\n",
    "scaleDataset = scaler.fit_transform(dense_mat.T).T\n",
    "print('Size of scaleDataset:')\n",
    "print(scaleDataset.shape)\n",
    "print()\n",
    "print('Scaled data:')\n",
    "print(scaleDataset[:5, :5])"
   ]
  },
  {
   "cell_type": "markdown",
   "metadata": {},
   "source": [
    "## Seperating training set  and test set"
   ]
  },
  {
   "cell_type": "code",
   "execution_count": 4,
   "metadata": {},
   "outputs": [
    {
     "name": "stdout",
     "output_type": "stream",
     "text": [
      "The size of training set is:\n",
      "(214, 6148)\n",
      "\n",
      "The size of test set is:\n",
      "(214, 2636)\n"
     ]
    }
   ],
   "source": [
    "test_rate = 0.3\n",
    "\n",
    "train_len = int((1 - test_rate) * scaleDataset.shape[1])\n",
    "test_len = scaleDataset.shape[1] - train_len\n",
    "training_set = scaleDataset[:, :train_len]\n",
    "test_set = scaleDataset[:, train_len:]\n",
    "print('The size of training set is:')\n",
    "print(training_set.shape)\n",
    "print()\n",
    "print('The size of test set is:')\n",
    "print(test_set.shape)"
   ]
  },
  {
   "cell_type": "markdown",
   "metadata": {},
   "source": [
    "## Generate inputs and labels\n",
    "**back_step** is the number of previous observations used in performing the prediction."
   ]
  },
  {
   "cell_type": "code",
   "execution_count": 5,
   "metadata": {},
   "outputs": [],
   "source": [
    "def create_samples(dataset, back_step = 1):\n",
    "    dataX, dataY = [], []\n",
    "    for item in range(dataset.shape[0]):\n",
    "        for t in range(dataset.shape[1] - back_step):\n",
    "            a = dataset[item, t:(t + back_step)]\n",
    "            dataX.append(a)\n",
    "            dataY.append(dataset[item, t + back_step])\n",
    "    return np.array(dataX), np.array(dataY)"
   ]
  },
  {
   "cell_type": "code",
   "execution_count": 7,
   "metadata": {},
   "outputs": [],
   "source": [
    "def create_samples(dataset, time_lags):\n",
    "    dataX, dataY = [], []\n",
    "    back_step = np.max(time_lags)\n",
    "    for item in range(dataset.shape[0]):\n",
    "        for t in range(back_step, dataset.shape[1]):\n",
    "            a = dataset[item, t - time_lags]\n",
    "            dataX.append(a)\n",
    "            dataY.append(dataset[item, t])\n",
    "    return np.array(dataX), np.array(dataY)"
   ]
  },
  {
   "cell_type": "markdown",
   "metadata": {},
   "source": [
    "Set prediction backstep to be $12 \\times 60 / 5= 144$ (Use observations of the previous week to make predictions). "
   ]
  },
  {
   "cell_type": "code",
   "execution_count": 9,
   "metadata": {},
   "outputs": [
    {
     "name": "stdout",
     "output_type": "stream",
     "text": [
      "Size of training X:\n",
      "(1284856, 3)\n",
      "Size of training Y:\n",
      "(1284856,)\n",
      "\n",
      "Size of testing X:\n",
      "(533288, 3)\n",
      "Size of testing Y:\n",
      "(533288,)\n"
     ]
    }
   ],
   "source": [
    "back_step = 144 # 12*60/5\n",
    "time_lags = np.array([1,2,144])\n",
    "trainX, trainY = create_samples(training_set, time_lags)\n",
    "testX, testY = create_samples(test_set, time_lags)\n",
    "print('Size of training X:')\n",
    "print(trainX.shape)\n",
    "print('Size of training Y:')\n",
    "print(trainY.shape)\n",
    "print()\n",
    "print('Size of testing X:')\n",
    "print(testX.shape)\n",
    "print('Size of testing Y:')\n",
    "print(testY.shape)"
   ]
  },
  {
   "cell_type": "markdown",
   "metadata": {},
   "source": [
    "### Reshape inputs to shape of [samples, time_steps, features]"
   ]
  },
  {
   "cell_type": "code",
   "execution_count": 10,
   "metadata": {},
   "outputs": [
    {
     "name": "stdout",
     "output_type": "stream",
     "text": [
      "Shape of trainX:\n",
      "(1284856, 3, 1)\n",
      "Shape of testX:\n",
      "(533288, 3, 1)\n",
      "Shape of trainY:\n",
      "(1284856,)\n",
      "Shape of testY:\n",
      "(533288,)\n"
     ]
    }
   ],
   "source": [
    "# reshape input to be [samples, time steps, features]\n",
    "trainX = np.reshape(trainX, (trainX.shape[0], trainX.shape[1], 1))\n",
    "testX = np.reshape(testX, (testX.shape[0], testX.shape[1], 1))\n",
    "print('Shape of trainX:')\n",
    "print(trainX.shape)\n",
    "print('Shape of testX:')\n",
    "print(testX.shape)\n",
    "print('Shape of trainY:')\n",
    "print(trainY.shape)\n",
    "print('Shape of testY:')\n",
    "print(testY.shape)\n",
    "# print('The first 5 elements in trainX are:')\n",
    "# print(trainX[:5][:][:])"
   ]
  },
  {
   "cell_type": "markdown",
   "metadata": {},
   "source": [
    "### Reshape inputs to shape of [samples, time_steps, features]"
   ]
  },
  {
   "cell_type": "code",
   "execution_count": 11,
   "metadata": {},
   "outputs": [
    {
     "name": "stdout",
     "output_type": "stream",
     "text": [
      "Shape of keras_trainX:\n",
      "(1284856, 3, 1)\n",
      "Shape of keras_testX:\n",
      "(533288, 3, 1)\n",
      "Shape of trainY:\n",
      "(1284856,)\n",
      "Shape of testY:\n",
      "(533288,)\n",
      "The first 5 elements in trainX are:\n",
      "[[0.84539792 0.84152603 0.79588401]\n",
      " [0.80291234 0.84539792 0.81787383]]\n"
     ]
    }
   ],
   "source": [
    "# reshape input to be [samples, time steps, features]\n",
    "keras_trainX = np.reshape(trainX, (trainX.shape[0], trainX.shape[1], 1))\n",
    "keras_testX = np.reshape(testX, (testX.shape[0], testX.shape[1], 1))\n",
    "# trainY = np.reshape(trainY, (trainY.shape[0], 1, 1))\n",
    "# testY = np.reshape(testY, (testY.shape[0], 1, 1))\n",
    "print('Shape of keras_trainX:')\n",
    "print(keras_trainX.shape)\n",
    "print('Shape of keras_testX:')\n",
    "print(keras_testX.shape)\n",
    "print('Shape of trainY:')\n",
    "print(trainY.shape)\n",
    "print('Shape of testY:')\n",
    "print(testY.shape)\n",
    "print('The first 5 elements in trainX are:')\n",
    "print(keras_trainX[:2,:5,0])"
   ]
  },
  {
   "cell_type": "markdown",
   "metadata": {},
   "source": [
    "## Neural network setup and training\n",
    "The network consists of three LSTM networks and a full connected layer. Each of the LSTM layer has 10 hidden units. Two dropout layers are added after each of the LSTM layers. "
   ]
  },
  {
   "cell_type": "code",
   "execution_count": 13,
   "metadata": {},
   "outputs": [
    {
     "name": "stdout",
     "output_type": "stream",
     "text": [
      "Epoch 1/20\n",
      " - 520s - loss: 0.0045\n",
      "Epoch 2/20\n",
      " - 524s - loss: 0.0040\n",
      "Epoch 3/20\n",
      " - 527s - loss: 0.0039\n",
      "Epoch 4/20\n",
      " - 527s - loss: 0.0039\n",
      "Epoch 5/20\n",
      " - 525s - loss: 0.0039\n",
      "Epoch 6/20\n",
      " - 524s - loss: 0.0039\n",
      "Epoch 7/20\n",
      " - 527s - loss: 0.0038\n",
      "Epoch 8/20\n",
      " - 525s - loss: 0.0038\n",
      "Epoch 9/20\n",
      " - 525s - loss: 0.0038\n",
      "Epoch 10/20\n",
      " - 524s - loss: 0.0038\n",
      "Epoch 11/20\n",
      " - 525s - loss: 0.0038\n",
      "Epoch 12/20\n",
      " - 525s - loss: 0.0038\n",
      "Epoch 13/20\n",
      " - 527s - loss: 0.0038\n",
      "Epoch 14/20\n",
      " - 524s - loss: 0.0038\n",
      "Epoch 15/20\n",
      " - 524s - loss: 0.0038\n",
      "Epoch 16/20\n",
      " - 525s - loss: 0.0038\n",
      "Epoch 17/20\n",
      " - 524s - loss: 0.0038\n",
      "Epoch 18/20\n",
      " - 525s - loss: 0.0038\n",
      "Epoch 19/20\n",
      " - 526s - loss: 0.0038\n",
      "Epoch 20/20\n",
      " - 525s - loss: 0.0038\n"
     ]
    },
    {
     "data": {
      "text/plain": [
       "<keras.callbacks.callbacks.History at 0x7f839af69cd0>"
      ]
     },
     "execution_count": 13,
     "metadata": {},
     "output_type": "execute_result"
    }
   ],
   "source": [
    "# create and fit the LSTM network\n",
    "model = Sequential()\n",
    "model.add(LSTM(10, input_shape = (len(time_lags), 1), return_sequences = True))\n",
    "model.add(Dropout(0.1))\n",
    "model.add(LSTM(10, input_shape = (len(time_lags), 10), return_sequences = True))\n",
    "model.add(Dropout(0.1))\n",
    "model.add(LSTM(10, input_shape = (len(time_lags), 10)))\n",
    "model.add(Dropout(0.1))\n",
    "model.add(Dense(1))\n",
    "model.compile(loss='mean_squared_error', optimizer='adam')\n",
    "model.fit(keras_trainX, trainY, epochs=20, batch_size=10, verbose=2)"
   ]
  },
  {
   "cell_type": "markdown",
   "metadata": {},
   "source": [
    "### Using trained model to make predictions\n",
    "Using the afore-trained model to make predictions both in the training set and the test set."
   ]
  },
  {
   "cell_type": "code",
   "execution_count": 14,
   "metadata": {},
   "outputs": [],
   "source": [
    "# make predictions\n",
    "trainPredict = model.predict(keras_trainX)\n",
    "testPredict = model.predict(keras_testX)"
   ]
  },
  {
   "cell_type": "markdown",
   "metadata": {},
   "source": [
    "### Reshape predictions to size [sample_num, feature_num]\n",
    "Recall that we used the sklearn tool `MinMaxScalar` to normalize the concentration data of different kinds of pollutants from different stations seperately. `MinMaxScalar` function requires samples of size **[sample_num, feature_num]**. Here, **sample_num** is the number of time slots in the dataset(or predictions) and **feature_num** is the number of different pollutants from different observation stations which is 27 in our problem setting($4 \\times 8 - 5 = 27$).\n",
    "\n",
    "So, to denormalize those predictions, we need to reshape the predictions to size **[predict_time, 27]**."
   ]
  },
  {
   "cell_type": "code",
   "execution_count": 16,
   "metadata": {},
   "outputs": [],
   "source": [
    "def reshapepred(predictions, feature_num):\n",
    "    time_num = np.int(len(predictions) / feature_num)\n",
    "    pred_mat = np.zeros((time_num, feature_num))\n",
    "    for t in range(time_num):\n",
    "        for item in range(feature_num):\n",
    "            pred_mat[t, item] = predictions[item * time_num + t]\n",
    "    return pred_mat"
   ]
  },
  {
   "cell_type": "code",
   "execution_count": 22,
   "metadata": {},
   "outputs": [
    {
     "name": "stdout",
     "output_type": "stream",
     "text": [
      "The size of train_pred_mat:\n",
      "(6004, 214)\n",
      "\n",
      "The size of test_pred_mat:\n",
      "(2492, 214)\n"
     ]
    }
   ],
   "source": [
    "train_pred_mat = reshapepred(trainPredict, 214)\n",
    "test_pred_mat = reshapepred(testPredict, 214)\n",
    "print('The size of train_pred_mat:')\n",
    "print(train_pred_mat.shape)\n",
    "print()\n",
    "print('The size of test_pred_mat:')\n",
    "print(test_pred_mat.shape)"
   ]
  },
  {
   "cell_type": "markdown",
   "metadata": {},
   "source": [
    "#### Reshape real values to shape [pred_time_num, feature_num]"
   ]
  },
  {
   "cell_type": "code",
   "execution_count": 23,
   "metadata": {},
   "outputs": [
    {
     "name": "stdout",
     "output_type": "stream",
     "text": [
      "The size of training_real_value:\n",
      "(6004, 214)\n",
      "\n",
      "The size of test_real_value:\n",
      "(2492, 214)\n"
     ]
    }
   ],
   "source": [
    "training_real_value = training_set[:, back_step:].T\n",
    "test_real_value = test_set[:, back_step:].T\n",
    "print('The size of training_real_value:')\n",
    "print(training_real_value.shape)\n",
    "print()\n",
    "print('The size of test_real_value:')\n",
    "print(test_real_value.shape)"
   ]
  },
  {
   "cell_type": "markdown",
   "metadata": {},
   "source": [
    "### Denormalize of predictions\n",
    "As we trained the network using normalized data, the datas we predicted are also normalized. Now we want to denormalize them."
   ]
  },
  {
   "cell_type": "code",
   "execution_count": 24,
   "metadata": {},
   "outputs": [
    {
     "name": "stdout",
     "output_type": "stream",
     "text": [
      "(2492, 214)\n",
      "(2492, 214)\n"
     ]
    }
   ],
   "source": [
    "# invert predictions\n",
    "descale_trainPredict = scaler.inverse_transform(train_pred_mat)\n",
    "descale_trainY = scaler.inverse_transform(training_real_value)\n",
    "descale_testPredict = scaler.inverse_transform(test_pred_mat)\n",
    "descale_testY = scaler.inverse_transform(test_real_value)\n",
    "print(descale_testPredict.shape)\n",
    "# print(descale_testPredict[:5, 0])\n",
    "print(descale_testY.shape)\n",
    "# print(descale_testY[0, :5])"
   ]
  },
  {
   "cell_type": "code",
   "execution_count": 25,
   "metadata": {},
   "outputs": [
    {
     "name": "stdout",
     "output_type": "stream",
     "text": [
      "10 first real value on test set\n",
      "[28.609 22.81  20.459 21.862 10.57  11.069 12.005 13.571 12.509 11.214]\n",
      "\n",
      "10 first prediciton on test set:\n",
      "[29.32066255 28.56704194 23.08668891 20.60876873 22.16327217 15.23679403\n",
      " 14.51099738 15.04803977 16.08451985 15.13808738]\n"
     ]
    }
   ],
   "source": [
    "print('10 first real value on test set')\n",
    "print(descale_testY[:10,0])\n",
    "print()\n",
    "print('10 first prediciton on test set:')\n",
    "print(descale_testPredict[:10,0])"
   ]
  },
  {
   "cell_type": "markdown",
   "metadata": {},
   "source": [
    "### Calculate the prediction error\n",
    "RMSE(root mean squared error) for both training set and test set are calculated in the following code:"
   ]
  },
  {
   "cell_type": "code",
   "execution_count": 26,
   "metadata": {},
   "outputs": [],
   "source": [
    "def mean_absolute_percentage_error(y_true, y_pred): \n",
    "    y_true, y_pred = np.array(y_true), np.array(y_pred)\n",
    "    return np.mean(np.abs((y_true - y_pred) / y_true)) * 100\n",
    "def root_mean_squared_error(y_true, y_pred): \n",
    "    y_true, y_pred = np.array(y_true), np.array(y_pred)\n",
    "    return np.sqrt(np.mean(np.square(y_true - y_pred)))"
   ]
  },
  {
   "cell_type": "code",
   "execution_count": 27,
   "metadata": {},
   "outputs": [
    {
     "name": "stdout",
     "output_type": "stream",
     "text": [
      "Train Score: 2.95 RMSE\n",
      "Train Score: inf% MAPE\n",
      "\n",
      "Test Score: 3.02 RMSE\n",
      "Test Score: 6.75% MAPE\n"
     ]
    },
    {
     "name": "stderr",
     "output_type": "stream",
     "text": [
      "/home/jamie/anaconda3/lib/python3.7/site-packages/ipykernel_launcher.py:3: RuntimeWarning: divide by zero encountered in true_divide\n",
      "  This is separate from the ipykernel package so we can avoid doing imports until\n"
     ]
    }
   ],
   "source": [
    "# calculate root mean squared error\n",
    "trainScore_rmse = root_mean_squared_error(descale_trainY, descale_trainPredict)\n",
    "print('Train Score: %.2f RMSE' % (trainScore_rmse))\n",
    "trainScore_mape = mean_absolute_percentage_error(descale_trainY, descale_trainPredict)\n",
    "print('Train Score: %.2f%% MAPE' % (trainScore_mape))\n",
    "print()\n",
    "testScore_rmse = root_mean_squared_error(descale_testY, descale_testPredict)\n",
    "print('Test Score: %.2f RMSE' % (testScore_rmse))\n",
    "testScore_mape = mean_absolute_percentage_error(descale_testY, descale_testPredict)\n",
    "print('Test Score: %.2f%% MAPE' % (testScore_mape))"
   ]
  },
  {
   "cell_type": "markdown",
   "metadata": {},
   "source": [
    "### Discussion: What the rmse would be if using current value as predict value?"
   ]
  },
  {
   "cell_type": "code",
   "execution_count": 28,
   "metadata": {},
   "outputs": [
    {
     "name": "stdout",
     "output_type": "stream",
     "text": [
      "Dummy RMSE on training set: 3.12 RMSE\n",
      "Dummy MAPE on training set: nan% MAPE\n",
      "\n",
      "Dummy RMSE on training set: 3.21 RMSE\n",
      "Dummy MAPE on training set: 6.76% MAPE\n"
     ]
    },
    {
     "name": "stderr",
     "output_type": "stream",
     "text": [
      "/home/jamie/anaconda3/lib/python3.7/site-packages/ipykernel_launcher.py:3: RuntimeWarning: divide by zero encountered in true_divide\n",
      "  This is separate from the ipykernel package so we can avoid doing imports until\n",
      "/home/jamie/anaconda3/lib/python3.7/site-packages/ipykernel_launcher.py:3: RuntimeWarning: invalid value encountered in true_divide\n",
      "  This is separate from the ipykernel package so we can avoid doing imports until\n"
     ]
    }
   ],
   "source": [
    "dummy_rmse_train = math.sqrt(mean_squared_error(descale_trainY[1:descale_trainY.shape[0]][:], descale_trainY[0: descale_trainY.shape[0] - 1][:]))\n",
    "dummy_mape_train = mean_absolute_percentage_error(descale_trainY[1:descale_trainY.shape[0]][:], descale_trainY[0: descale_trainY.shape[0] - 1][:])\n",
    "print('Dummy RMSE on training set: %.2f RMSE' % (dummy_rmse_train))\n",
    "print('Dummy MAPE on training set: %.2f%% MAPE' % (dummy_mape_train))\n",
    "print()\n",
    "dummy_rmse_test = math.sqrt(mean_squared_error(descale_testY[1:descale_testY.shape[0]][:], descale_testY[0: descale_testY.shape[0] - 1][:]))\n",
    "dummy_mape_test = mean_absolute_percentage_error(descale_testY[1:descale_testY.shape[0]][:], descale_testY[0: descale_testY.shape[0] - 1][:])\n",
    "print('Dummy RMSE on training set: %.2f RMSE' % (dummy_rmse_test))\n",
    "print('Dummy MAPE on training set: %.2f%% MAPE' % (dummy_mape_test))"
   ]
  },
  {
   "cell_type": "markdown",
   "metadata": {},
   "source": [
    "### Real value and predicted value visualization"
   ]
  },
  {
   "cell_type": "code",
   "execution_count": 29,
   "metadata": {},
   "outputs": [
    {
     "data": {
      "image/png": "[encoded data removed]",
      "text/plain": [
       "<Figure size 1080x288 with 1 Axes>"
      ]
     },
     "metadata": {
      "needs_background": "light"
     },
     "output_type": "display_data"
    }
   ],
   "source": [
    "import matplotlib.pyplot as plt\n",
    "plt.figure(figsize = (15, 4))\n",
    "pollutant = 0\n",
    "start_time = 0\n",
    "end_time = 500\n",
    "plt.plot(descale_testPredict[start_time:end_time, pollutant], label = 'Predict value', marker='', markerfacecolor='blue', markersize=8, color='red', linewidth=2)\n",
    "plt.plot(descale_testY[start_time:end_time, pollutant], label = 'Real value', marker='', markerfacecolor='blue', markersize=8, color='blue', linewidth=2)\n",
    "plt.title('NO concentration prediction at Xuhui Caoxinlu observation station')\n",
    "plt.xlabel('Time')\n",
    "plt.ylabel('NO $\\mu g/m^3$')\n",
    "plt.legend()\n",
    "plt.show()"
   ]
  },
  {
   "cell_type": "code",
   "execution_count": 30,
   "metadata": {},
   "outputs": [
    {
     "data": {
      "image/png": "[encoded data removed]",
      "text/plain": [
       "<Figure size 1080x288 with 1 Axes>"
      ]
     },
     "metadata": {
      "needs_background": "light"
     },
     "output_type": "display_data"
    }
   ],
   "source": [
    "import matplotlib.pyplot as plt\n",
    "plt.figure(figsize = (15, 4))\n",
    "pollutant = 11\n",
    "start_time = 0\n",
    "end_time = 500\n",
    "plt.plot(descale_testPredict[start_time:end_time, pollutant], label = 'Predict value', marker='', markerfacecolor='blue', markersize=8, color='red', linewidth=2)\n",
    "plt.plot(descale_testY[start_time:end_time, pollutant], label = 'Real value', marker='', markerfacecolor='blue', markersize=8, color='blue', linewidth=2)\n",
    "plt.title('CO concentration prediction at Jingan Yananxilu observation station')\n",
    "plt.xlabel('Time')\n",
    "plt.ylabel('CO $\\mu g/m^3$')\n",
    "plt.legend()\n",
    "plt.show()"
   ]
  },
  {
   "cell_type": "code",
   "execution_count": null,
   "metadata": {},
   "outputs": [],
   "source": []
  }
 ],
 "metadata": {
  "kernelspec": {
   "display_name": "Python 3",
   "language": "python",
   "name": "python3"
  },
  "language_info": {
   "codemirror_mode": {
    "name": "ipython",
    "version": 3
   },
   "file_extension": ".py",
   "mimetype": "text/x-python",
   "name": "python",
   "nbconvert_exporter": "python",
   "pygments_lexer": "ipython3",
   "version": "3.7.4"
  },
  "nbTranslate": {
   "displayLangs": [
    "*"
   ],
   "hotkey": "alt-t",
   "langInMainMenu": true,
   "sourceLang": "en",
   "targetLang": "fr",
   "useGoogleTranslate": true
  }
 },
 "nbformat": 4,
 "nbformat_minor": 2
}
